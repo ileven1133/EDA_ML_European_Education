{
 "cells": [
  {
   "cell_type": "code",
   "execution_count": 1,
   "metadata": {},
   "outputs": [],
   "source": [
    "import pandas as pd\n",
    "import plotly.express as px\n",
    "import plotly.graph_objects as go\n",
    "from plotly.subplots import make_subplots\n",
    "import plotly.io as pio\n",
    "import numpy as np\n",
    "from IPython.display import display\n",
    "from ipywidgets import widgets, interact\n",
    "\n",
    "# Configuración\n",
    "pio.templates.default = \"plotly_white\"\n",
    "\n",
    "\n",
    "# Cargar datos\n",
    "df_main = pd.read_csv('data_cleaned/population_by_educational_attainment_level_sex_and_age_percent_main_indicators.csv')\n",
    "df_birth = pd.read_csv('data_cleaned/population_by_educational_attainment_level_sex_and_age_percent_and_country_of_birth.csv')\n",
    "df_wstatus = pd.read_csv('data_cleaned/population_by_educational_attainment_level_sex_and_age_percent_and_labour_force.csv')\n",
    "#df_unemployment = pd.read_csv('data_cleaned/Unemployment rates by sex, age and educational attainment level (%).csv')\n",
    "\n",
    "\n"
   ]
  },
  {
   "cell_type": "code",
   "execution_count": 22,
   "metadata": {},
   "outputs": [
    {
     "name": "stdout",
     "output_type": "stream",
     "text": [
      "Valores únicos en df_main['age']: ['Y15-64' 'Y20-24' 'Y25-34' 'Y25-64' 'Y30-34' 'Y30-54' 'Y35-44' 'Y45-54'\n",
      " 'Y45-64' 'Y55-64']\n",
      "Valores únicos en df_birth['age']: ['Y15-24' 'Y15-64' 'Y15-69' 'Y15-74' 'Y18-24' 'Y18-64' 'Y18-69' 'Y18-74'\n",
      " 'Y20-24' 'Y25-34' 'Y25-54' 'Y25-64' 'Y25-69' 'Y25-74' 'Y30-34' 'Y30-54'\n",
      " 'Y55-74']\n",
      "Valores únicos en df_wstatus['age']: ['Y15-24' 'Y15-64' 'Y15-69' 'Y15-74' 'Y18-24' 'Y18-64' 'Y18-69' 'Y18-74'\n",
      " 'Y20-24' 'Y25-34' 'Y25-54' 'Y25-64' 'Y25-69' 'Y25-74' 'Y30-54' 'Y55-74']\n",
      "df_merged_reduced head:\n",
      "   country  year sex     age            Age class isced11  \\\n",
      "0  Austria  1995   F  Y15-64  From 15 to 64 years   ED0-2   \n",
      "1  Austria  1996   F  Y15-64  From 15 to 64 years   ED0-2   \n",
      "2  Austria  1997   F  Y15-64  From 15 to 64 years   ED0-2   \n",
      "3  Austria  1998   F  Y15-64  From 15 to 64 years   ED0-2   \n",
      "4  Austria  1999   F  Y15-64  From 15 to 64 years   ED0-2   \n",
      "\n",
      "                                     education_level  \\\n",
      "0  Less than primary, primary and lower secondary...   \n",
      "1  Less than primary, primary and lower secondary...   \n",
      "2  Less than primary, primary and lower secondary...   \n",
      "3  Less than primary, primary and lower secondary...   \n",
      "4  Less than primary, primary and lower secondary...   \n",
      "\n",
      "   percentage_education_general age_group country_birth  \\\n",
      "0                          41.4     15-64           NaN   \n",
      "1                          39.6     15-64           NaN   \n",
      "2                          36.6     15-64           NaN   \n",
      "3                          36.0     15-64           NaN   \n",
      "4                          35.3     15-64           NaN   \n",
      "\n",
      "   percentage_education_by_birth labour_force  percentage_by_employment_status  \n",
      "0                            NaN          NaN                              NaN  \n",
      "1                            NaN          NaN                              NaN  \n",
      "2                            NaN          NaN                              NaN  \n",
      "3                            NaN          NaN                              NaN  \n",
      "4                            NaN          NaN                              NaN  \n",
      "<class 'pandas.core.frame.DataFrame'>\n",
      "RangeIndex: 7088072 entries, 0 to 7088071\n",
      "Data columns (total 13 columns):\n",
      " #   Column                           Dtype  \n",
      "---  ------                           -----  \n",
      " 0   country                          object \n",
      " 1   year                             int64  \n",
      " 2   sex                              object \n",
      " 3   age                              object \n",
      " 4   Age class                        object \n",
      " 5   isced11                          object \n",
      " 6   education_level                  object \n",
      " 7   percentage_education_general     float64\n",
      " 8   age_group                        object \n",
      " 9   country_birth                    object \n",
      " 10  percentage_education_by_birth    float64\n",
      " 11  labour_force                     object \n",
      " 12  percentage_by_employment_status  float64\n",
      "dtypes: float64(3), int64(1), object(9)\n",
      "memory usage: 703.0+ MB\n",
      "None\n"
     ]
    }
   ],
   "source": [
    "import pandas as pd\n",
    "\n",
    "# 1. Revisar valores únicos de 'age' (ejecuta esto para inspeccionar tus DataFrames)\n",
    "print(\"Valores únicos en df_main['age']:\", df_main['age'].unique())\n",
    "print(\"Valores únicos en df_birth['age']:\", df_birth['age'].unique())\n",
    "print(\"Valores únicos en df_wstatus['age']:\", df_wstatus['age'].unique())\n",
    "\n",
    "# 2. Definir la función map_age_group (ajusta según los valores únicos encontrados)\n",
    "def map_age_group_reduced(age_str):\n",
    "    if age_str == 'Y15-24' or age_str == 'Y15-19' or age_str == 'Y20-24':\n",
    "        return '15-24'\n",
    "    elif age_str == 'Y25-54' or age_str == 'Y25-34' or age_str == 'Y35-44' or age_str == 'Y45-54':\n",
    "        return '25-54'\n",
    "    elif age_str == 'Y55-64':\n",
    "        return '55-64'\n",
    "    elif age_str == 'Y15-64':\n",
    "        return '15-64'\n",
    "    # Añade más mapeos según sea necesario para df_main, df_birth, y df_wstatus\n",
    "    return age_str\n",
    "\n",
    "# 3. Aplicar la función y crear la columna 'age_group'\n",
    "df_main['age_group'] = df_main['age'].apply(map_age_group_reduced)\n",
    "df_birth['age_group'] = df_birth['age'].apply(map_age_group_reduced)\n",
    "df_wstatus['age_group'] = df_wstatus['age'].apply(map_age_group_reduced)\n",
    "\n",
    "# 4. Renombrar columnas de porcentaje\n",
    "df_main = df_main.rename(columns={'percent_edat_lfse': 'percentage_education_general'})\n",
    "df_birth = df_birth.rename(columns={'percent_edat_lfs_birth': 'percentage_education_by_birth'})\n",
    "df_wstatus = df_wstatus.rename(columns={'percent_edat_lfs_wstatus': 'percentage_by_employment_status'})\n",
    "\n",
    "# 5. Realizar el merge\n",
    "df_merged_reduced = pd.merge(df_main, df_birth[['country', 'year', 'sex', 'education_level', 'age_group', 'country_birth', 'percentage_education_by_birth']],\n",
    "                            on=['country', 'year', 'sex', 'education_level', 'age_group'],\n",
    "                            how='left')\n",
    "\n",
    "df_merged_reduced = pd.merge(df_merged_reduced, df_wstatus[['country', 'year', 'sex', 'education_level', 'age_group', 'labour_force', 'percentage_by_employment_status']],\n",
    "                            on=['country', 'year', 'sex', 'education_level', 'age_group'],\n",
    "                            how='left')\n",
    "\n",
    "print(\"df_merged_reduced head:\")\n",
    "print(df_merged_reduced.head())\n",
    "print(df_merged_reduced.info())"
   ]
  },
  {
   "cell_type": "code",
   "execution_count": 23,
   "metadata": {},
   "outputs": [
    {
     "name": "stdout",
     "output_type": "stream",
     "text": [
      "Porcentaje de valores no nulos en percentage_education_by_birth: 0.8286875471919586\n",
      "Porcentaje de valores no nulos en labour_force: 0.9860461349715409\n",
      "Porcentaje de valores no nulos en percentage_by_employment_status: 0.9506359416213606\n"
     ]
    }
   ],
   "source": [
    "print(\"Porcentaje de valores no nulos en percentage_education_by_birth:\", df_merged_reduced['percentage_education_by_birth'].notna().mean())\n",
    "print(\"Porcentaje de valores no nulos en labour_force:\", df_merged_reduced['labour_force'].notna().mean())\n",
    "print(\"Porcentaje de valores no nulos en percentage_by_employment_status:\", df_merged_reduced['percentage_by_employment_status'].notna().mean())"
   ]
  },
  {
   "cell_type": "code",
   "execution_count": 24,
   "metadata": {},
   "outputs": [
    {
     "name": "stdout",
     "output_type": "stream",
     "text": [
      "DataFrame guardado como 'df_merged_reduced.csv'\n"
     ]
    }
   ],
   "source": [
    "# Guardar el DataFrame df_merged_reduced en un archivo CSV\n",
    "df_merged_reduced.to_csv('df_merged_reduced.csv', index=False)  # index=False evita guardar el índice del DataFrame\n",
    "print(\"DataFrame guardado como 'df_merged_reduced.csv'\")"
   ]
  }
 ],
 "metadata": {
  "kernelspec": {
   "display_name": "Python 3",
   "language": "python",
   "name": "python3"
  },
  "language_info": {
   "codemirror_mode": {
    "name": "ipython",
    "version": 3
   },
   "file_extension": ".py",
   "mimetype": "text/x-python",
   "name": "python",
   "nbconvert_exporter": "python",
   "pygments_lexer": "ipython3",
   "version": "3.11.9"
  }
 },
 "nbformat": 4,
 "nbformat_minor": 2
}
